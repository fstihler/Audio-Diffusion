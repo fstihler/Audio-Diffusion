{
 "cells": [
  {
   "cell_type": "markdown",
   "id": "3f4f59a0-474e-4552-b686-d0f3363d0cbe",
   "metadata": {
    "user_expressions": []
   },
   "source": [
    "1. Add class to DataSet\n",
    "2. Add class to training loop\n",
    "3. Add class to generation -> DDPMPipeline doesnt accept text conditioning\n",
    "    1. Custom DDPMPipeline\n",
    "4. Add class to CustomModel\n",
    "5. Change everything to video\n",
    "    * make sure dimensions match"
   ]
  },
  {
   "cell_type": "code",
   "execution_count": 1,
   "id": "9020d841-95e0-4eba-bb2b-bc7991880b37",
   "metadata": {
    "tags": []
   },
   "outputs": [
    {
     "name": "stderr",
     "output_type": "stream",
     "text": [
      "/accounts/class/s222/deepul_vidaud/.local/lib/python3.11/site-packages/transformers/utils/hub.py:124: FutureWarning: Using `TRANSFORMERS_CACHE` is deprecated and will be removed in v5 of Transformers. Use `HF_HOME` instead.\n",
      "  warnings.warn(\n",
      "2024-04-12 17:01:10.448862: I tensorflow/core/util/port.cc:110] oneDNN custom operations are on. You may see slightly different numerical results due to floating-point round-off errors from different computation orders. To turn them off, set the environment variable `TF_ENABLE_ONEDNN_OPTS=0`.\n",
      "2024-04-12 17:01:10.501770: I tensorflow/core/platform/cpu_feature_guard.cc:182] This TensorFlow binary is optimized to use available CPU instructions in performance-critical operations.\n",
      "To enable the following instructions: AVX2 AVX512F AVX512_VNNI FMA, in other operations, rebuild TensorFlow with the appropriate compiler flags.\n",
      "2024-04-12 17:01:12.026187: W tensorflow/compiler/tf2tensorrt/utils/py_utils.cc:38] TF-TRT Warning: Could not find TensorRT\n"
     ]
    }
   ],
   "source": [
    "# Imports\n",
    "import librosa\n",
    "import matplotlib.pyplot as plt\n",
    "import numpy as np\n",
    "import torch\n",
    "from diffusers import StableDiffusionPipeline"
   ]
  },
  {
   "cell_type": "code",
   "execution_count": 2,
   "id": "3cde2fdc-8537-461e-82d7-b172d7d2c6a7",
   "metadata": {},
   "outputs": [
    {
     "name": "stdout",
     "output_type": "stream",
     "text": [
      "CUDA is available\n"
     ]
    }
   ],
   "source": [
    "import torch\n",
    "\n",
    "if torch.cuda.is_available():\n",
    "    print(\"CUDA is available\")\n",
    "else:\n",
    "    print(\"CUDA is not available\")"
   ]
  },
  {
   "cell_type": "markdown",
   "id": "91c88e59-42ed-4b2a-bb51-93e06b783324",
   "metadata": {
    "tags": [],
    "user_expressions": []
   },
   "source": [
    "# Wav to Melspec\n",
    "TODO: change to torch functions for better performance"
   ]
  },
  {
   "cell_type": "code",
   "execution_count": 148,
   "id": "04a20f18-6cf5-4dc8-beed-14c6743cc204",
   "metadata": {
    "tags": []
   },
   "outputs": [],
   "source": [
    "import librosa\n",
    "import numpy as np\n",
    "import matplotlib.pyplot as plt\n",
    "import matplotlib.pyplot as plt\n",
    "import torch\n",
    "from diffusers import StableDiffusionPipeline\n",
    "import torch\n",
    "from PIL import Image\n",
    "import numpy as np\n",
    "from diffusers import DDPMScheduler\n",
    "from diffusers.optimization import get_cosine_schedule_with_warmup\n",
    "from torchvision import transforms\n",
    "import torch.nn.functional as F\n",
    "from diffusers import DDPMPipeline, DiffusionPipeline, ImagePipelineOutput\n",
    "from diffusers.utils import make_image_grid\n",
    "import os\n",
    "\n",
    "from accelerate import Accelerator\n",
    "from huggingface_hub import create_repo, upload_folder\n",
    "from tqdm.auto import tqdm\n",
    "from pathlib import Path\n",
    "import os\n",
    "\n",
    "from torchvision import transforms\n",
    "import torch\n",
    "import torch.nn.functional as F"
   ]
  },
  {
   "cell_type": "code",
   "execution_count": 5,
   "id": "4cef4ee7-f6c5-4cfd-bc0f-29fda71a6935",
   "metadata": {
    "tags": []
   },
   "outputs": [],
   "source": [
    "def pad_or_truncate(mel_spec, max_length, axis=-1):\n",
    "    current_length = mel_spec.shape[axis]\n",
    "    if current_length < max_length:\n",
    "        padding = max_length - current_length\n",
    "        pad_width = [(0, 0)] * mel_spec.ndim\n",
    "        pad_width[axis] = (0, padding)\n",
    "        mel_spec_padded = np.pad(mel_spec, pad_width, mode='constant')\n",
    "        return mel_spec_padded\n",
    "    elif current_length > max_length:\n",
    "        return mel_spec[..., :max_length]\n",
    "    else:\n",
    "        return mel_spec"
   ]
  },
  {
   "cell_type": "code",
   "execution_count": 14,
   "id": "9ab8bad1-59a6-44e2-a800-8fa02ff62a76",
   "metadata": {
    "tags": []
   },
   "outputs": [],
   "source": [
    "# Convert wav to melspectrograms"
   ]
  },
  {
   "cell_type": "code",
   "execution_count": 6,
   "id": "e33a9295-baec-4c78-b1f6-32f97abf525d",
   "metadata": {
    "tags": []
   },
   "outputs": [
    {
     "name": "stdout",
     "output_type": "stream",
     "text": [
      "Starting conversion.\n",
      "Conversion complete.\n"
     ]
    }
   ],
   "source": [
    "import os\n",
    "\n",
    "wav_folder_path = 'data/free-spoken-digit-dataset-master/recordings'\n",
    "mel_folder_path = 'data/free-spoken-digit-dataset-master/melspecs'\n",
    "os.makedirs(mel_folder_path, exist_ok=True)\n",
    "\n",
    "# Determine the maximum length of the mel spectrograms\n",
    "max_length = 0\n",
    "for wav_file in os.listdir(wav_folder_path):\n",
    "    if wav_file.endswith('.wav'):\n",
    "        file_path = os.path.join(wav_folder_path, wav_file)\n",
    "        mel_spec = wav_to_mel(file_path)\n",
    "        if mel_spec.shape[1] > max_length:\n",
    "            max_length = mel_spec.shape[1]\n",
    "            \n",
    "max_length = 32\n",
    "\n",
    "print(\"Starting conversion.\")\n",
    "            \n",
    "# Convert, pad, and save the mel spectrograms\n",
    "for wav_file in os.listdir(wav_folder_path):\n",
    "    if wav_file.endswith('.wav'):\n",
    "        file_path = os.path.join(wav_folder_path, wav_file)\n",
    "        mel_spec = wav_to_mel(file_path)\n",
    "        mel_spec_padded = pad_or_truncate(mel_spec, max_length)\n",
    "        mel_file_path = os.path.join(mel_folder_path, os.path.splitext(wav_file)[0] + '.npy')\n",
    "        np.save(mel_file_path, mel_spec_padded)\n",
    "\n",
    "print('Conversion complete.')"
   ]
  },
  {
   "cell_type": "markdown",
   "id": "7f06b255-ab54-4ba8-a192-6779e4589df5",
   "metadata": {
    "user_expressions": []
   },
   "source": [
    "# Melspec as tensor dataset "
   ]
  },
  {
   "cell_type": "code",
   "execution_count": 83,
   "id": "e93342f9-50ad-498e-8e9d-516bc488f0cf",
   "metadata": {
    "tags": []
   },
   "outputs": [
    {
     "data": {
      "text/plain": [
       "0"
      ]
     },
     "execution_count": 83,
     "metadata": {},
     "output_type": "execute_result"
    }
   ],
   "source": [
    "int('0')"
   ]
  },
  {
   "cell_type": "code",
   "execution_count": 129,
   "id": "8bc85070-ad88-4259-bbad-beba7104bf06",
   "metadata": {
    "tags": []
   },
   "outputs": [],
   "source": [
    "import torch\n",
    "from torch.utils.data import Dataset\n",
    "from torchvision import transforms\n",
    "import glob\n",
    "\n",
    "\n",
    "class MelSpectrogramDataset(Dataset):\n",
    "    def __init__(self, mel_folder_path, transform=None):\n",
    "        self.mel_folder_path = mel_folder_path\n",
    "        self.mel_files = [f for f in os.listdir(mel_folder_path) if f.endswith('.npy')]\n",
    "        self.transform = transform\n",
    "        self.unique_classes = set()\n",
    "        self.num_classes = 0\n",
    "\n",
    "    def __len__(self):\n",
    "        return len(self.mel_files)\n",
    "\n",
    "    def __getitem__(self, idx):\n",
    "        mel_file_path = os.path.join(self.mel_folder_path, self.mel_files[idx])\n",
    "        mel_spec = np.load(mel_file_path)\n",
    "        # class is indicated in the file as '<class>_*.npy'\n",
    "        label = int(self.mel_files[idx].split('_')[0]) # TODO : change label to video embedding\n",
    "        self.unique_classes = self.unique_classes.union({label})\n",
    "        self.num_classes = len(self.unique_classes)\n",
    "        label = torch.tensor(label,dtype=int)\n",
    "        if self.transform:\n",
    "            mel_spec = self.transform(mel_spec)\n",
    "        if isinstance(mel_spec, np.ndarray):\n",
    "            mel_spec = torch.from_numpy(mel_spec).float().clone().detach()\n",
    "        elif isinstance(mel_spec, torch.Tensor):\n",
    "            mel_spec = mel_spec.float().clone().detach()\n",
    "        else:\n",
    "            raise TypeError(f\"Expected mel_spec to be np.ndarray or torch.Tensor, got {type(mel_spec)}\")\n",
    "        return mel_spec,label\n",
    "    \n",
    "    \n",
    "    def set_transform(self, transform):\n",
    "        self.transform = transform\n",
    "\n",
    "class DuplicateChannels:\n",
    "    def __call__(self, mel_spec):\n",
    "        #return torch.stack([mel_spec.unsqueeze(0)] * 3, dim=0)\n",
    "        return np.stack([mel_spec] * 3, axis=0)\n",
    "        \n",
    "    \n",
    "class ScaleToRange:\n",
    "    def __init__(self, min_value, max_value, target_range=(-1, 1)):\n",
    "        self.min_value = min_value\n",
    "        self.max_value = max_value\n",
    "        self.target_min, self.target_max = target_range\n",
    "\n",
    "    def __call__(self, tensor):\n",
    "        # Scale to [0, 1]\n",
    "        tensor = (tensor - self.min_value) / (self.max_value - self.min_value)\n",
    "        # Scale to target range\n",
    "        tensor = tensor * (self.target_max - self.target_min) + self.target_min\n",
    "        return tensor\n",
    "\n",
    "class ResizeAndDuplicate:\n",
    "    def __init__(self, output_size):\n",
    "        self.output_size = output_size\n",
    "\n",
    "    def __call__(self, tensor):\n",
    "        # Add a channel dimension\n",
    "        tensor = tensor.unsqueeze(0)\n",
    "        # Resize\n",
    "        tensor = F.interpolate(tensor.unsqueeze(0), size=self.output_size, mode='bilinear', align_corners=False).squeeze(0)\n",
    "        # Duplicate along the channel dimension\n",
    "        tensor = tensor.repeat(3, 1, 1)\n",
    "        return tensor\n"
   ]
  },
  {
   "cell_type": "code",
   "execution_count": 130,
   "id": "91acc69b-0e72-4cf0-a94e-0131eab7ce1b",
   "metadata": {
    "tags": []
   },
   "outputs": [
    {
     "name": "stdout",
     "output_type": "stream",
     "text": [
      "Min value: -80.0, Max value: 3.814697265625e-06\n"
     ]
    },
    {
     "data": {
      "text/plain": [
       "10"
      ]
     },
     "execution_count": 130,
     "metadata": {},
     "output_type": "execute_result"
    }
   ],
   "source": [
    "wav_folder_path = 'data/free-spoken-digit-dataset-master/recordings'\n",
    "mel_folder_path = 'data/free-spoken-digit-dataset-master/melspecs'\n",
    "\n",
    "# Create the dataset object and apply the transformations\n",
    "mel_dataset = MelSpectrogramDataset(mel_folder_path)\n",
    "\n",
    "min_value = float('inf')\n",
    "max_value = float('-inf')\n",
    "\n",
    "for mel_spec in mel_dataset:\n",
    "    min_value = min(min_value, mel_spec[0].min().item())\n",
    "    max_value = max(max_value, mel_spec[0].max().item())\n",
    "\n",
    "print(f'Min value: {min_value}, Max value: {max_value}')\n",
    "mel_dataset.num_classes"
   ]
  },
  {
   "cell_type": "code",
   "execution_count": 131,
   "id": "73c47d8e-e70a-4950-ac8e-148be0ccd836",
   "metadata": {
    "tags": []
   },
   "outputs": [],
   "source": [
    "preprocess = transforms.Compose(\n",
    "    [\n",
    "        #TimeShift(),\n",
    "        #FrequencyMask(max_width=10),\n",
    "        DuplicateChannels(),\n",
    "        transforms.Lambda(lambda x: torch.tensor(x, dtype=torch.float32)),  # Convert to tensor\n",
    "        #ResizeAndDuplicate(output_size=(128, 128)),\n",
    "        ScaleToRange(min_value, max_value)\n",
    "    ]\n",
    ")\n",
    "\n",
    "mel_dataset.set_transform(preprocess)"
   ]
  },
  {
   "cell_type": "code",
   "execution_count": 132,
   "id": "296d3cde-6e6b-421e-be70-175796eb7e70",
   "metadata": {
    "tags": []
   },
   "outputs": [
    {
     "name": "stdout",
     "output_type": "stream",
     "text": [
      "(3, 128, 32)\n",
      "-1.0 1.0\n"
     ]
    }
   ],
   "source": [
    "transf_ms = mel_dataset[0][0].numpy()\n",
    "print(transf_ms.shape)\n",
    "print(transf_ms.min(), transf_ms.max())"
   ]
  },
  {
   "cell_type": "code",
   "execution_count": 133,
   "id": "0de00577-6f46-4c21-8cf7-adb69bc0d38b",
   "metadata": {
    "tags": []
   },
   "outputs": [
    {
     "data": {
      "image/png": "[encoded data removed]",
      "text/plain": [
       "<Figure size 500x200 with 2 Axes>"
      ]
     },
     "metadata": {},
     "output_type": "display_data"
    }
   ],
   "source": [
    "plt.figure(figsize=(5, 2))\n",
    "librosa.display.specshow(transf_ms[0,:,:])\n",
    "plt.colorbar(format='%+2.0f dB')\n",
    "plt.title('Mel spectrogram')\n",
    "plt.tight_layout()\n",
    "plt.show()"
   ]
  },
  {
   "cell_type": "code",
   "execution_count": 209,
   "id": "d7528e20-9c47-4304-9d2d-4e73b335e0c6",
   "metadata": {
    "tags": []
   },
   "outputs": [],
   "source": [
    "from dataclasses import dataclass\n",
    "\n",
    "@dataclass\n",
    "class TrainingConfig:\n",
    "    image_size = (128,32)  # the generated image resolution\n",
    "    train_batch_size = 16\n",
    "    eval_batch_size = 16  # how many images to sample during evaluation\n",
    "    num_epochs = 5\n",
    "    gradient_accumulation_steps = 1\n",
    "    learning_rate = 1e-4\n",
    "    lr_warmup_steps = 500\n",
    "    save_image_epochs = 10\n",
    "    save_model_epochs = 30\n",
    "    mixed_precision = \"fp16\"  # `no` for float32, `fp16` for automatic mixed precision\n",
    "    output_dir = \"MNIST_Audio\"  # the model name locally and on the HF Hub\n",
    "\n",
    "    push_to_hub = False  # whether to upload the saved model to the HF Hub\n",
    "    hub_model_id = \"<your-username>/<my-awesome-model>\"  # the name of the repository to create on the HF Hub\n",
    "    hub_private_repo = False\n",
    "    overwrite_output_dir = True  # overwrite the old model when re-running the notebook\n",
    "    seed = 0\n",
    "\n",
    "\n",
    "config = TrainingConfig()"
   ]
  },
  {
   "cell_type": "code",
   "execution_count": 210,
   "id": "5ae4f513-d2e5-4d44-aa8c-0c5b65d1e059",
   "metadata": {
    "tags": []
   },
   "outputs": [],
   "source": [
    "# Create dataloader\n",
    "train_dataloader = torch.utils.data.DataLoader(mel_dataset, batch_size=config.train_batch_size, shuffle=True)"
   ]
  },
  {
   "cell_type": "markdown",
   "id": "ddd24c5a-77ef-4c34-ade7-9fa44098e31c",
   "metadata": {
    "user_expressions": []
   },
   "source": [
    "# Train diffusion"
   ]
  },
  {
   "cell_type": "code",
   "execution_count": 211,
   "id": "fe8a3cc6-c1a2-4173-9a6e-f27a7bf5eab3",
   "metadata": {},
   "outputs": [],
   "source": [
    "# conditional model\n",
    "from diffusers import UNet2DConditionModel\n",
    "\n",
    "class UNet2DConditionCustomModel(UNet2DConditionModel):\n",
    "    def __init__(\n",
    "        self,\n",
    "        \n",
    "        **kwarg,\n",
    "    ):\n",
    "        super().__init__(**kwargs)"
   ]
  },
  {
   "cell_type": "code",
   "execution_count": 212,
   "id": "df5a1e52-2f2d-4f1b-9dbc-b164c5a8dd04",
   "metadata": {
    "tags": []
   },
   "outputs": [],
   "source": [
    "from diffusers import UNet2DModel\n",
    "\n",
    "model = UNet2DModel(\n",
    "    sample_size=config.image_size,  # the target image resolution\n",
    "    in_channels=3,  # the number of input channels, 3 for RGB images\n",
    "    out_channels=3,  # the number of output channels\n",
    "    layers_per_block=2,  # how many ResNet layers to use per UNet block\n",
    "    block_out_channels=(128, 128, 256, 256, 512, 512),  # the number of output channels for each UNet block\n",
    "    down_block_types=(\n",
    "        \"DownBlock2D\",  # a regular ResNet downsampling block\n",
    "        \"DownBlock2D\",\n",
    "        \"DownBlock2D\",\n",
    "        \"DownBlock2D\",\n",
    "        \"AttnDownBlock2D\",  # a ResNet downsampling block with spatial self-attention\n",
    "        \"DownBlock2D\",\n",
    "    ),\n",
    "    up_block_types=(\n",
    "        \"UpBlock2D\",  # a regular ResNet upsampling block\n",
    "        \"AttnUpBlock2D\",  # a ResNet upsampling block with spatial self-attention\n",
    "        \"UpBlock2D\",\n",
    "        \"UpBlock2D\",\n",
    "        \"UpBlock2D\",\n",
    "        \"UpBlock2D\",\n",
    "    ),\n",
    "    class_embed_type = None,\n",
    "    num_class_embeds = 10,\n",
    "    # projection_class_embeddings_input_dim = 1\n",
    ")"
   ]
  },
  {
   "cell_type": "code",
   "execution_count": 213,
   "id": "baf1240b-1a51-494b-bcf0-e856c549deef",
   "metadata": {
    "tags": []
   },
   "outputs": [
    {
     "name": "stdout",
     "output_type": "stream",
     "text": [
      "Input shape: torch.Size([1, 3, 128, 32])\n",
      "Class shape: torch.Size([])\n",
      "Output shape: torch.Size([1, 3, 128, 32])\n"
     ]
    }
   ],
   "source": [
    "# Check input and output shape match\n",
    "sample_image, image_class = mel_dataset[0]\n",
    "sample_image = sample_image.unsqueeze(0)\n",
    "# image_class = image_class.unsqueeze(0)\n",
    "print(\"Input shape:\", sample_image.shape)\n",
    "print(\"Class shape:\", image_class.shape)\n",
    "\n",
    "print(\"Output shape:\", model(sample = sample_image,class_labels = image_class, timestep=0).sample.shape)"
   ]
  },
  {
   "cell_type": "code",
   "execution_count": 214,
   "id": "df42613b-1490-4d00-ba91-4f6375aec6cd",
   "metadata": {
    "tags": []
   },
   "outputs": [
    {
     "data": {
      "image/png": "[encoded data removed]",
      "text/plain": [
       "<PIL.Image.Image image mode=RGB size=32x128>"
      ]
     },
     "execution_count": 214,
     "metadata": {},
     "output_type": "execute_result"
    }
   ],
   "source": [
    "# Create scheduler\n",
    "noise_scheduler = DDPMScheduler(num_train_timesteps=1000)\n",
    "noise = torch.randn(sample_image.shape)\n",
    "timesteps = torch.LongTensor([50])\n",
    "noisy_image = noise_scheduler.add_noise(sample_image, noise, timesteps)\n",
    "\n",
    "Image.fromarray(((noisy_image.permute(0, 2, 3, 1) + 1.0) * 127.5).type(torch.uint8).numpy()[0])\n",
    "Image.fromarray(((sample_image.permute(0, 2, 3, 1) + 1.0) * 127.5).type(torch.uint8).numpy()[0])"
   ]
  },
  {
   "cell_type": "code",
   "execution_count": 215,
   "id": "c5956b59-9405-4bd0-865a-ec34ea28d49c",
   "metadata": {
    "tags": []
   },
   "outputs": [],
   "source": [
    "# Loss calculation\n",
    "noise_pred = model(sample =noisy_image, class_labels=image_class, timestep=timesteps).sample\n",
    "loss = F.mse_loss(noise_pred, noise)"
   ]
  },
  {
   "cell_type": "code",
   "execution_count": 216,
   "id": "1f45e106-dd93-4e9a-a36a-5bba0a119d0b",
   "metadata": {
    "tags": []
   },
   "outputs": [],
   "source": [
    "# optimizer and lr scheduler\n",
    "\n",
    "optimizer = torch.optim.AdamW(model.parameters(), lr=config.learning_rate)\n",
    "lr_scheduler = get_cosine_schedule_with_warmup(\n",
    "    optimizer=optimizer,\n",
    "    num_warmup_steps=config.lr_warmup_steps,\n",
    "    num_training_steps=(len(train_dataloader) * config.num_epochs),\n",
    ")"
   ]
  },
  {
   "cell_type": "code",
   "execution_count": 217,
   "id": "9ecbaa28-38f1-4890-9861-829cc1c91669",
   "metadata": {
    "tags": []
   },
   "outputs": [],
   "source": [
    "# post_processing\n",
    "def reverse_transformations(numpy_images, min_value, max_value):\n",
    "    reversed_images = []\n",
    "\n",
    "    for image in numpy_images:\n",
    "        # Reverse the duplication of channels (assuming the original image had 1 channel)\n",
    "        image = image[:, :, 0]\n",
    "\n",
    "        # Reverse the scaling to the original range\n",
    "        image = ((image + 1) / 2) * (max_value - min_value) + min_value\n",
    "\n",
    "        # Append the reversed image to the list\n",
    "        reversed_images.append(image)\n",
    "\n",
    "    return reversed_images\n"
   ]
  },
  {
   "cell_type": "code",
   "execution_count": 225,
   "id": "af6ede67-98b0-43d4-86c9-6555f98138b8",
   "metadata": {
    "tags": []
   },
   "outputs": [],
   "source": [
    "import warnings\n",
    "from typing import Optional, Tuple, Union,List\n",
    "\n",
    "class DDPMPipelineConditional(DDPMPipeline):\n",
    "    r\"\"\"\n",
    "    This model inherits from [`DDPMPipeline`]. Check the superclass documentation for the generic methods the\n",
    "    library implements for all the pipelines (such as downloading or saving, running on a particular device, etc.)\n",
    "\n",
    "    Parameters:\n",
    "        unet ([`UNet2DModel`,`UNet2DConditionalModel`]): U-Net architecture to denoise the encoded image.\n",
    "        scheduler ([`SchedulerMixin`]):\n",
    "            A scheduler to be used in combination with `unet` to denoise the encoded image. Can be one of\n",
    "            [`DDPMScheduler`], or [`DDIMScheduler`].\n",
    "    \"\"\"\n",
    "\n",
    "    @torch.no_grad()\n",
    "    def __call__(\n",
    "        self,\n",
    "        classes: List[int],\n",
    "        n_timesteps: int,\n",
    "        batch_size: int = 1,\n",
    "        generator: Optional[torch.Generator] = None,\n",
    "        output_type: Optional[str] = \"pil\",\n",
    "        return_dict: bool = True,\n",
    "        **kwargs,\n",
    "    ) -> Union[ImagePipelineOutput, Tuple]:\n",
    "        r\"\"\"\n",
    "        Args:\n",
    "            classes:\n",
    "                List of classes to condition generation.\n",
    "            n_timesteps:\n",
    "                The number of denoising steps per sample.\n",
    "            batch_size (`int`, *optional*, defaults to 1):\n",
    "                The number of images to generate per class.\n",
    "            generator (`torch.Generator`, *optional*):\n",
    "                A [torch generator](https://pytorch.org/docs/stable/generated/torch.Generator.html) to make generation\n",
    "                deterministic.\n",
    "            output_type (`str`, *optional*, defaults to `\"pil\"`):\n",
    "                The output format of the generate image. Choose between\n",
    "                [PIL](https://pillow.readthedocs.io/en/stable/): `PIL.Image.Image` or `nd.array`.\n",
    "            return_dict (`bool`, *optional*, defaults to `True`):\n",
    "                Whether or not to return a [`~pipeline_utils.ImagePipelineOutput`] instead of a plain tuple.\n",
    "\n",
    "        Returns:\n",
    "            [`~pipeline_utils.ImagePipelineOutput`] or `tuple`: [`~pipelines.utils.ImagePipelineOutput`] if\n",
    "            `return_dict` is True, otherwise a `tuple. When returning a tuple, the first element is a list with the\n",
    "            generated images.\n",
    "        \"\"\"\n",
    "        if \"torch_device\" in kwargs:\n",
    "            device = kwargs.pop(\"torch_device\")\n",
    "            warnings.warn(\n",
    "                \"`torch_device` is deprecated as an input argument to `__call__` and will be removed in v0.3.0.\"\n",
    "                \" Consider using `pipe.to(torch_device)` instead.\"\n",
    "            )\n",
    "            # Set device as before (to be removed in 0.3.0)\n",
    "            if device is None:\n",
    "                device = \"cuda\" if torch.cuda.is_available() else \"cpu\"\n",
    "            self.to(device)\n",
    "        \n",
    "        images = []\n",
    "        # set step values\n",
    "        self.scheduler.set_timesteps(n_timesteps)\n",
    "        # loop thru classes\n",
    "        for image_class in classes:\n",
    "            # Sample gaussian noise to begin loop\n",
    "            image = torch.randn(\n",
    "                (batch_size, self.unet.in_channels, *self.unet.sample_size),\n",
    "                generator=generator,\n",
    "            )\n",
    "            image = image.to(self.device)\n",
    "            for t in self.progress_bar(self.scheduler.timesteps):\n",
    "                # 1. predict noise model_output\n",
    "                model_output = self.unet(sample=image,\n",
    "                                         class_labels=torch.tensor(image_class,dtype=int,device=self.device),\n",
    "                                         timestep=t).sample\n",
    "\n",
    "                # 2. compute previous image: x_t -> t_t-1\n",
    "                image = self.scheduler.step(model_output, t, image, generator=generator).prev_sample\n",
    "\n",
    "            image = (image / 2 + 0.5).clamp(0, 1)\n",
    "            image = image.cpu().permute(0, 2, 3, 1).numpy()\n",
    "            images.append(image)\n",
    "        images = np.concatenate(images)\n",
    "        if output_type == \"pil\":\n",
    "            images = self.numpy_to_pil(image)\n",
    "\n",
    "        if not return_dict:\n",
    "            return (images,)\n",
    "\n",
    "        return ImagePipelineOutput(images=images)"
   ]
  },
  {
   "cell_type": "code",
   "execution_count": 227,
   "id": "48d623ce-80d6-4040-b4e0-24365f7ec4b2",
   "metadata": {
    "tags": []
   },
   "outputs": [],
   "source": [
    "def evaluate(config, epoch, pipeline, classes, n_timesteps=100, min_value=min_value, max_value=max_value):\n",
    "    # Sample some images from random noise (this is the backward diffusion process).\n",
    "    # The default pipeline output type is `List[PIL.Image]`\n",
    "    images = pipeline(\n",
    "        batch_size=config.eval_batch_size,\n",
    "        generator=torch.manual_seed(config.seed),\n",
    "        classes=classes,\n",
    "        n_timesteps=n_timesteps\n",
    "    ).images\n",
    "\n",
    "    # Make a grid out of the images\n",
    "    image_grid = make_image_grid(images, rows=4, cols=4)\n",
    "\n",
    "    # Save the images\n",
    "    test_dir = os.path.join(config.output_dir, \"samples\")\n",
    "    os.makedirs(test_dir, exist_ok=True)\n",
    "    image_grid.save(f\"{test_dir}/{epoch:04d}.png\")\n",
    "\n",
    "    # Convert PIL images to numpy arrays\n",
    "    numpy_images = [np.array(image) for image in images]\n",
    "    numpy_images = [((image/255.0)-0.5)*2 for image in numpy_images]\n",
    "\n",
    "    # Reverse the transformations\n",
    "    reversed_images = reverse_transformations(numpy_images, min_value, max_value)\n",
    "\n",
    "    # Save the individual numpy arrays\n",
    "    test_dir = os.path.join(config.output_dir, \"samples\")\n",
    "    os.makedirs(test_dir, exist_ok=True)\n",
    "    for i, image in enumerate(reversed_images):\n",
    "        np.save(os.path.join(test_dir, f\"sample_{epoch:04d}_{i}.npy\"), image)\n",
    "\n",
    "    # Convert numpy arrays back to PIL images for saving (optional)\n",
    "    pil_images = [Image.fromarray(np.uint8(image)) for image in reversed_images]\n",
    "\n",
    "    # Make a grid out of the PIL images\n",
    "    image_grid = make_image_grid(pil_images, rows=4, cols=4)\n",
    "\n",
    "    # Save the grid of images\n",
    "    image_grid.save(os.path.join(test_dir, f\"grid_{epoch:04d}.png\"))\n"
   ]
  },
  {
   "cell_type": "code",
   "execution_count": 231,
   "id": "5d94e3fe-5257-414e-b573-73cc55717d06",
   "metadata": {
    "tags": []
   },
   "outputs": [],
   "source": [
    "from accelerate import Accelerator\n",
    "from huggingface_hub import create_repo, upload_folder\n",
    "from tqdm.auto import tqdm\n",
    "from pathlib import Path\n",
    "import os\n",
    "\n",
    "loss_mod = 47\n",
    "loss_visual = []\n",
    "\n",
    "def train_loop(config, model, noise_scheduler, optimizer, train_dataloader, lr_scheduler):\n",
    "    # Initialize accelerator and tensorboard logging\n",
    "    accelerator = Accelerator(\n",
    "        mixed_precision=config.mixed_precision,\n",
    "        gradient_accumulation_steps=config.gradient_accumulation_steps,\n",
    "        log_with=\"tensorboard\",\n",
    "        project_dir=os.path.join(config.output_dir, \"logs\"),\n",
    "    )\n",
    "    if accelerator.is_main_process:\n",
    "        if config.output_dir is not None:\n",
    "            os.makedirs(config.output_dir, exist_ok=True)\n",
    "        if config.push_to_hub:\n",
    "            repo_id = create_repo(\n",
    "                repo_id=config.hub_model_id or Path(config.output_dir).name, exist_ok=True\n",
    "            ).repo_id\n",
    "        accelerator.init_trackers(\"train_example\")\n",
    "\n",
    "    # Prepare everything\n",
    "    # There is no specific order to remember, you just need to unpack the\n",
    "    # objects in the same order you gave them to the prepare method.\n",
    "    model, optimizer, train_dataloader, lr_scheduler = accelerator.prepare(\n",
    "        model, optimizer, train_dataloader, lr_scheduler\n",
    "    )\n",
    "\n",
    "    global_step = 0\n",
    "\n",
    "    # Now you train the model\n",
    "    for epoch in range(config.num_epochs):\n",
    "        progress_bar = tqdm(total=len(train_dataloader), disable=not accelerator.is_local_main_process)\n",
    "        progress_bar.set_description(f\"Epoch {epoch}\")\n",
    "\n",
    "        for step, batch in enumerate(train_dataloader):\n",
    "            clean_images, image_class = batch\n",
    "            # Sample noise to add to the images\n",
    "            noise = torch.randn(clean_images.shape, device=clean_images.device)\n",
    "            bs = clean_images.shape[0]\n",
    "\n",
    "            # Sample a random timestep for each image\n",
    "            timesteps = torch.randint(\n",
    "                0, noise_scheduler.config.num_train_timesteps, (bs,), device=clean_images.device,\n",
    "                dtype=torch.int64\n",
    "            )\n",
    "\n",
    "            # Add noise to the clean images according to the noise magnitude at each timestep\n",
    "            # (this is the forward diffusion process)\n",
    "            noisy_images = noise_scheduler.add_noise(clean_images, noise, timesteps)\n",
    "\n",
    "            with accelerator.accumulate(model):\n",
    "                # Predict the noise residual\n",
    "                noise_pred = model(sample=noisy_images, class_labels=image_class,timestep=timesteps, return_dict=False)[0]\n",
    "                loss = F.mse_loss(noise_pred, noise)\n",
    "                accelerator.backward(loss)\n",
    "\n",
    "                accelerator.clip_grad_norm_(model.parameters(), 1.0)\n",
    "                optimizer.step()\n",
    "                lr_scheduler.step()\n",
    "                optimizer.zero_grad()\n",
    "\n",
    "            progress_bar.update(1)\n",
    "            if step % loss_mod == 0:\n",
    "                print(f\"Epoch {epoch} - \",\"loss: \", loss.detach().item(), \"lr: \", lr_scheduler.get_last_lr()[0])\n",
    "            logs = {\"loss\": loss.detach().item(), \"lr\": lr_scheduler.get_last_lr()[0], \"step\": global_step}\n",
    "            loss_visual.append(loss.detach().item())\n",
    "            progress_bar.set_postfix(**logs)\n",
    "            accelerator.log(logs, step=global_step)\n",
    "            global_step += 1\n",
    "\n",
    "        # After each epoch you optionally sample some demo images with evaluate() and save the model\n",
    "        if accelerator.is_main_process:\n",
    "            pipeline = DDPMPipelineConditional(unet=accelerator.unwrap_model(model), scheduler=noise_scheduler)\n",
    "\n",
    "            if (epoch + 1) % config.save_image_epochs == 0 or epoch == config.num_epochs - 1:\n",
    "                evaluate(config=config, epoch=epoch, pipeline=pipeline, classes=[0],n_timesteps=800)\n",
    "\n",
    "            if (epoch + 1) % config.save_model_epochs == 0 or epoch == config.num_epochs - 1:\n",
    "                if config.push_to_hub:\n",
    "                    upload_folder(\n",
    "                        repo_id=repo_id,\n",
    "                        folder_path=config.output_dir,\n",
    "                        commit_message=f\"Epoch {epoch}\",\n",
    "                        ignore_patterns=[\"step_*\", \"epoch_*\"],\n",
    "                    )\n",
    "                else:\n",
    "                    pipeline.save_pretrained(config.output_dir)"
   ]
  },
  {
   "cell_type": "code",
   "execution_count": null,
   "id": "f5471997-c794-4d07-b182-3697932b9237",
   "metadata": {
    "tags": []
   },
   "outputs": [
    {
     "name": "stdout",
     "output_type": "stream",
     "text": [
      "Launching training on one GPU.\n"
     ]
    },
    {
     "data": {
      "application/vnd.jupyter.widget-view+json": {
       "model_id": "1cbd4c6bdf534530ae313b709014dc32",
       "version_major": 2,
       "version_minor": 0
      },
      "text/plain": [
       "  0%|          | 0/188 [00:00<?, ?it/s]"
      ]
     },
     "metadata": {},
     "output_type": "display_data"
    },
    {
     "name": "stdout",
     "output_type": "stream",
     "text": [
      "Epoch 0 -  loss:  0.01579279825091362 lr:  1.2744786250407092e-09\n",
      "Epoch 0 -  loss:  0.00788535363972187 lr:  2.9077818180237638e-06\n",
      "Epoch 0 -  loss:  0.013768392615020275 lr:  1.1067923097512234e-05\n",
      "Epoch 0 -  loss:  0.01590188592672348 lr:  2.357134843685791e-05\n"
     ]
    },
    {
     "data": {
      "application/vnd.jupyter.widget-view+json": {
       "model_id": "43e40c72c1484765ac39e6ce6bbf62b8",
       "version_major": 2,
       "version_minor": 0
      },
      "text/plain": [
       "  0%|          | 0/188 [00:00<?, ?it/s]"
      ]
     },
     "metadata": {},
     "output_type": "display_data"
    },
    {
     "name": "stdout",
     "output_type": "stream",
     "text": [
      "Epoch 1 -  loss:  0.013248100876808167 lr:  3.902316878079626e-05\n",
      "Epoch 1 -  loss:  0.017658162862062454 lr:  5.569957049452701e-05\n",
      "Epoch 1 -  loss:  0.038841910660266876 lr:  7.174012496746159e-05\n",
      "Epoch 1 -  loss:  0.02461436204612255 lr:  8.535533905932738e-05\n"
     ]
    },
    {
     "data": {
      "application/vnd.jupyter.widget-view+json": {
       "model_id": "3cd03186fa90467ebf6b2b17bb17f1df",
       "version_major": 2,
       "version_minor": 0
      },
      "text/plain": [
       "  0%|          | 0/188 [00:00<?, ?it/s]"
      ]
     },
     "metadata": {},
     "output_type": "display_data"
    },
    {
     "name": "stdout",
     "output_type": "stream",
     "text": [
      "Epoch 2 -  loss:  0.015004707500338554 lr:  9.502629194591926e-05\n",
      "Epoch 2 -  loss:  0.012865862809121609 lr:  9.967408676742751e-05\n"
     ]
    }
   ],
   "source": [
    "from accelerate import notebook_launcher\n",
    "\n",
    "args = (config, model, noise_scheduler, optimizer, train_dataloader, lr_scheduler)\n",
    "\n",
    "notebook_launcher(train_loop, args, num_processes=1) # change to number of GPUs available"
   ]
  },
  {
   "cell_type": "code",
   "execution_count": null,
   "id": "3bdaab31-891c-4ffe-9ace-b9161b37156b",
   "metadata": {
    "tags": []
   },
   "outputs": [],
   "source": [
    "# Plotting the curve\n",
    "plt.plot(loss_visual)\n",
    "plt.xlabel('Epochs')\n",
    "plt.ylabel('Loss')\n",
    "plt.title('Loss Curve')\n",
    "plt.grid(True)\n",
    "plt.show()"
   ]
  },
  {
   "cell_type": "code",
   "execution_count": 47,
   "id": "f4de3945-c47b-4765-8ab3-57e064e97298",
   "metadata": {},
   "outputs": [
    {
     "data": {
      "image/png": "[encoded data removed]",
      "text/plain": [
       "<PIL.PngImagePlugin.PngImageFile image mode=RGB size=128x512>"
      ]
     },
     "execution_count": 47,
     "metadata": {},
     "output_type": "execute_result"
    }
   ],
   "source": [
    "import glob\n",
    "\n",
    "sample_images = sorted(glob.glob(f\"{config.output_dir}/samples/*.png\"))\n",
    "Image.open(sample_images[-1])"
   ]
  },
  {
   "cell_type": "markdown",
   "id": "0c48ec5e-f316-463b-a272-cafb0086068e",
   "metadata": {},
   "source": [
    "# Sample with class"
   ]
  },
  {
   "cell_type": "markdown",
   "id": "5beeb972-d157-4626-809e-6553b77fc8fa",
   "metadata": {
    "user_expressions": []
   },
   "source": [
    "# Samples to Wav "
   ]
  },
  {
   "cell_type": "code",
   "execution_count": 230,
   "id": "437f3794-8c7e-4d06-9839-68df70bc916a",
   "metadata": {
    "tags": []
   },
   "outputs": [
    {
     "name": "stdout",
     "output_type": "stream",
     "text": [
      "Processed and saved: Synth_Wavs/sample_0147_10.wav\n",
      "Processed and saved: Synth_Wavs/sample_0147_4.wav\n",
      "Processed and saved: Synth_Wavs/sample_0147_3.wav\n",
      "Processed and saved: Synth_Wavs/sample_0147_11.wav\n",
      "Processed and saved: Synth_Wavs/sample_0147_2.wav\n",
      "Processed and saved: Synth_Wavs/sample_0147_5.wav\n",
      "Processed and saved: Synth_Wavs/sample_0147_8.wav\n",
      "Processed and saved: Synth_Wavs/sample_0147_6.wav\n",
      "Processed and saved: Synth_Wavs/sample_0147_1.wav\n",
      "Processed and saved: Synth_Wavs/sample_0147_15.wav\n",
      "Processed and saved: Synth_Wavs/sample_0147_12.wav\n",
      "Processed and saved: Synth_Wavs/sample_0147_0.wav\n",
      "Processed and saved: Synth_Wavs/sample_0147_7.wav\n",
      "Processed and saved: Synth_Wavs/sample_0147_9.wav\n",
      "Processed and saved: Synth_Wavs/sample_0147_13.wav\n",
      "Processed and saved: Synth_Wavs/sample_0147_14.wav\n"
     ]
    }
   ],
   "source": [
    "import glob\n",
    "import numpy as np\n",
    "import librosa\n",
    "import soundfile as sf\n",
    "\n",
    "new_folder = 'Synth_Wavs/'\n",
    "os.makedirs(new_folder, exist_ok=True)\n",
    "\n",
    "# Get a list of all files matching the pattern # TODO: Change pattern to latest gen\n",
    "file_pattern = 'MNIST_Audio/samples/sample_0147_*.npy'\n",
    "files = glob.glob(file_pattern)\n",
    "\n",
    "# Set the sample rate\n",
    "sr = 52000\n",
    "\n",
    "# Process and write each file\n",
    "for file_path in files:\n",
    "    # Load the mel spectrogram\n",
    "    melspec_test = np.load(file_path)\n",
    "\n",
    "    # Reconstruct the audio from the mel spectrogram\n",
    "    S_reconstructed = librosa.db_to_power(melspec_test)\n",
    "    y_reconstructed = librosa.feature.inverse.mel_to_audio(S_reconstructed, sr=sr)\n",
    "\n",
    "    # Create a new file name for the reconstructed audio\n",
    "    new_file_name = file_path.replace('MNIST_Audio/samples/', 'Synth_Wavs/').replace('.npy', '.wav')\n",
    "\n",
    "    # Write the reconstructed audio to a new file\n",
    "    sf.write(new_file_name, y_reconstructed, sr)\n",
    "\n",
    "    print(f'Processed and saved: {new_file_name}')\n"
   ]
  }
 ],
 "metadata": {
  "kernelspec": {
   "display_name": "Python 3 (ipykernel)",
   "language": "python",
   "name": "python3"
  },
  "language_info": {
   "codemirror_mode": {
    "name": "ipython",
    "version": 3
   },
   "file_extension": ".py",
   "mimetype": "text/x-python",
   "name": "python",
   "nbconvert_exporter": "python",
   "pygments_lexer": "ipython3",
   "version": "3.11.0"
  }
 },
 "nbformat": 4,
 "nbformat_minor": 5
}
